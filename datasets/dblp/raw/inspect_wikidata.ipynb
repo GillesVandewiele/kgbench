{
 "cells": [
  {
   "cell_type": "code",
   "execution_count": 2,
   "metadata": {},
   "outputs": [],
   "source": [
    "import hdt, os, tqdm\n",
    "\n",
    "DIR = '/Volumes/Port/wikidata/'\n",
    "FILE = 'wikidata20200309.hdt' # -- downloaded from the HDT website\n",
    "\n"
   ]
  },
  {
   "cell_type": "code",
   "execution_count": 3,
   "metadata": {},
   "outputs": [],
   "source": [
    "doc = hdt.HDTDocument(DIR + os.sep + FILE)\n"
   ]
  },
  {
   "cell_type": "code",
   "execution_count": null,
   "metadata": {},
   "outputs": [],
   "source": [
    "triples, c = doc.search_triples('', 'http://www.wikidata.org/prop/direct/P1576', '', limit=100)\n",
    "print(c)\n",
    "\n",
    "for s, p, o in triples:\n",
    "    print(s, p, o)"
   ]
  },
  {
   "cell_type": "code",
   "execution_count": 1,
   "metadata": {},
   "outputs": [],
   "source": [
    "preds = [\n",
    "    'http://www.wikidata.org/prop/direct/P802',\n",
    "'http://www.wikidata.org/prop/direct/P488',\n",
    "'http://www.wikidata.org/prop/direct/P170',\n",
    "'http://www.wikidata.org/prop/direct/P1889',\n",
    "'http://www.wikidata.org/prop/direct/P178',\n",
    "'http://www.wikidata.org/prop/direct/P138',\n",
    "'http://www.wikidata.org/prop/direct/P710',\n",
    "'http://www.wikidata.org/prop/direct/P184',\n",
    "'http://www.wikidata.org/prop/direct/P112',\n",
    "'http://www.wikidata.org/prop/direct/P5769',\n",
    "'http://www.wikidata.org/prop/direct/P921',\n",
    "'http://www.wikidata.org/prop/direct/P61',\n",
    "'http://www.wikidata.org/prop/direct/P1066',\n",
    "'http://www.wikidata.org/prop/direct/P98',\n",
    "'http://www.wikidata.org/prop/direct/P3373',\n",
    "'http://www.wikidata.org/prop/direct/P161',\n",
    "'http://www.wikidata.org/prop/direct/P1346',\n",
    "'http://www.wikidata.org/prop/direct/P5804',\n",
    "'http://www.wikidata.org/prop/direct/P26',\n",
    "'http://www.wikidata.org/prop/direct/P185',\n",
    "'http://www.wikidata.org/prop/direct/P1037',\n",
    "'http://www.wikidata.org/prop/direct/P823',\n",
    "'http://www.wikidata.org/prop/direct/P50',\n",
    "'http://www.wikidata.org/prop/direct/P1855',\n",
    "'http://www.wikidata.org/prop/direct/P126',\n",
    "'http://www.wikidata.org/prop/direct/P40',\n",
    "'http://www.wikidata.org/prop/direct/P664',\n",
    "'http://www.wikidata.org/prop/direct/P22',\n",
    "'http://www.wikidata.org/prop/direct/P1327',\n",
    "'http://www.wikidata.org/prop/direct/P2554',\n",
    "]"
   ]
  },
  {
   "cell_type": "code",
   "execution_count": 4,
   "metadata": {},
   "outputs": [
    {
     "name": "stdout",
     "output_type": "stream",
     "text": [
      "'http://www.wikidata.org/prop/direct/P802', # \"student\"@en-gb \"notable student(s) of an individual\"@en\n",
      "'http://www.wikidata.org/prop/direct/P488', # \"chairperson\"@en-gb \"presiding member of an organization, group, or body\"@en-ca\n",
      "'http://www.wikidata.org/prop/direct/P170', # \"creator\"@en-gb \"maker of this creative work or other object (where no more specific property exists). Paintings with unknown painters, use \"anonymous\" (Q4233718) as value.\"@en\n",
      "'http://www.wikidata.org/prop/direct/P1889', # \"different from\"@en-gb \"item that is different from another item, with which it is often confused\"@en-gb\n",
      "'http://www.wikidata.org/prop/direct/P178', # \"developer\"@en-gb \"organisation or person that developed this item\"@en-gb\n",
      "'http://www.wikidata.org/prop/direct/P138', # \"named after\"@en-gb \"person or other entity that inspired this item's name\"@en-gb\n",
      "'http://www.wikidata.org/prop/direct/P710', # \"participant\"@en-gb \"person, group of people or organization that actively takes/took part in the event\"@en-gb\n",
      "'http://www.wikidata.org/prop/direct/P184', # \"doctoral supervisor\"@en-gb \"person who supervised the doctorate or PhD thesis of the subject\"@en-gb\n",
      "'http://www.wikidata.org/prop/direct/P112', # \"founder\"@en-gb \"the founder of this organisation, religion, or place\"@en-gb\n",
      "'http://www.wikidata.org/prop/direct/P5769', # \"editor-in-chief\"@en \"a publication's editorial leader who has final responsibility for its operations and policies\"@en\n",
      "'http://www.wikidata.org/prop/direct/P921', # \"main subject\"@en-gb \"primary topic of a work (see also P180: depicts)\"@en-gb\n",
      "'http://www.wikidata.org/prop/direct/P61', # \"discoverer or inventor\"@en-gb \"the entity who discovered, first described,  invented, or developed this discovery or invention\"@en\n",
      "'http://www.wikidata.org/prop/direct/P1066', # \"student of\"@en-gb \"person who has taught this person\"@en-gb\n",
      "'http://www.wikidata.org/prop/direct/P98', # \"editor\"@en-gb \"editor of a compiled work such as a book or academic journal\"@en-gb\n",
      "'http://www.wikidata.org/prop/direct/P3373', # \"sibling\"@en-gb \"the subject has the object as their sibling (brother, sister, etc.). Use \"relative\" (P1038) for siblings-in-law (brother-in-law, sister-in-law, etc.) and step-siblings (step-brothers, step-sisters, etc.)\"@en-gb\n",
      "'http://www.wikidata.org/prop/direct/P161', # \"cast member\"@en-gb \"actor performing live for a camera or audience [use \"character role\" (P453) as qualifier] [use \"voice actor\" (P725) for voice-only role]\"@en-gb\n",
      "'http://www.wikidata.org/prop/direct/P1346', # \"winner\"@en-gb \"winner of an event - do not use for awards (use P166/P2453 instead), nor for wars or battles\"@en\n",
      "'http://www.wikidata.org/prop/direct/P5804', # \"has program committee member\"@en None\n",
      "'http://www.wikidata.org/prop/direct/P26', # \"spouse\"@en-gb \"the subject has the object as their spouse (husband, wife, partner, etc.). Use \"unmarried partner\" (P451) for non-married companions\"@en-gb\n",
      "'http://www.wikidata.org/prop/direct/P185', # \"doctoral student\"@en-gb \"doctoral student(s) of a professor\"@en-gb\n",
      "'http://www.wikidata.org/prop/direct/P1037', # \"manager/director\"@en-ca \"person who manages any kind of group\"@en-ca\n",
      "'http://www.wikidata.org/prop/direct/P823', # \"speaker\"@en \"person who is speaker for this event, ceremony, keynote, presentation or in a literary work\"@en\n",
      "'http://www.wikidata.org/prop/direct/P50', # \"author\"@en-gb \"main creator(s) of a written work (use on works, not humans); use P2093 when Wikidata item is unknown or does not exist\"@en\n",
      "'http://www.wikidata.org/prop/direct/P1855', # \"Wikidata property example\"@en-gb \"example where this Wikidata property is used; target item is one that would use this property, with qualifier the property being described given the associated value\"@en\n",
      "'http://www.wikidata.org/prop/direct/P126', # \"maintenance\"@en-ca \"person or organization in charge of keeping the subject (for instance an infrastructure) in functioning order\"@en\n",
      "'http://www.wikidata.org/prop/direct/P40', # \"child\"@en-gb \"subject has the object in their family as their offspring son or daughter (independently of their age)\"@en-ca\n",
      "'http://www.wikidata.org/prop/direct/P664', # \"organizer\"@en \"person or institution organizing an event\"@en-gb\n",
      "'http://www.wikidata.org/prop/direct/P22', # \"father\"@en-gb \"male parent of the subject. For stepfather, use \"stepparent' (P3448)\"@en-ca\n",
      "'http://www.wikidata.org/prop/direct/P1327', # \"professional or sporting partner\"@en-gb \"professional collaborator\"@en\n",
      "'http://www.wikidata.org/prop/direct/P2554', # \"production designer\"@en \"production designer(s) of this motion picture, play, video game or similar\"@en\n"
     ]
    }
   ],
   "source": [
    "for pred in preds:\n",
    "    pid = pred.split('/')[-1]\n",
    "    name_triples, c = doc.search_triples(f'http://www.wikidata.org/entity/{pid}', 'http://schema.org/name', '')\n",
    "    \n",
    "    name = None\n",
    "    for _, _, o in name_triples:\n",
    "        if '@en' in o:\n",
    "            name = o\n",
    "            \n",
    "    desc_triples, c = doc.search_triples(f'http://www.wikidata.org/entity/{pid}', 'http://schema.org/description', '')\n",
    "    \n",
    "    description = None\n",
    "    for _, _, o in desc_triples:\n",
    "        if '@en' in o:\n",
    "            description = o\n",
    "            \n",
    "    print(f\"'{pred}', # {name} {description}\")\n",
    "    \n",
    "\n"
   ]
  },
  {
   "cell_type": "code",
   "execution_count": null,
   "metadata": {},
   "outputs": [],
   "source": []
  }
 ],
 "metadata": {
  "kernelspec": {
   "display_name": "Python 3",
   "language": "python",
   "name": "python3"
  },
  "language_info": {
   "codemirror_mode": {
    "name": "ipython",
    "version": 3
   },
   "file_extension": ".py",
   "mimetype": "text/x-python",
   "name": "python",
   "nbconvert_exporter": "python",
   "pygments_lexer": "ipython3",
   "version": "3.8.3"
  }
 },
 "nbformat": 4,
 "nbformat_minor": 4
}
